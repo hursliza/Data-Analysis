{
  "nbformat": 4,
  "nbformat_minor": 0,
  "metadata": {
    "colab": {
      "name": "Projekt2.ipynb",
      "provenance": [],
      "collapsed_sections": [
        "piIqQRS9ET2i",
        "bXf3uAl7dI2M",
        "hGLi0ykC6Tw9",
        "l4De1qcb83bs",
        "we-FEGta_Z3n",
        "rcpLnfRKFaBA",
        "i4sqWci6Ld3E"
      ]
    },
    "kernelspec": {
      "display_name": "Python 3",
      "name": "python3"
    },
    "language_info": {
      "name": "python"
    }
  },
  "cells": [
    {
      "cell_type": "markdown",
      "metadata": {
        "id": "VaTuFUpyXjEf"
      },
      "source": [
        "# Projekt 2. Deep Learning\n",
        "Lizaveta Hurskaya (hurskaya@student.agh.edu.pl)\n",
        "Yauheniya Padbiarozskaya (padbiaro@student.agh.edu.pl)"
      ]
    },
    {
      "cell_type": "markdown",
      "metadata": {
        "id": "piIqQRS9ET2i"
      },
      "source": [
        "# Przygotowanie środowiska i funkcji pomocniczych\n"
      ]
    },
    {
      "cell_type": "code",
      "metadata": {
        "id": "6bMN-6H6aCds"
      },
      "source": [
        "import cv2\n",
        "import numpy as np\n",
        "import matplotlib.pyplot as plt\n",
        "from keras.datasets import mnist\n",
        "from sklearn import svm\n",
        "from sklearn.ensemble import RandomForestClassifier\n",
        "from sklearn.metrics import classification_report, confusion_matrix, accuracy_score\n",
        "from keras import models\n",
        "from keras import layers\n",
        "from keras.utils import to_categorical"
      ],
      "execution_count": 21,
      "outputs": []
    },
    {
      "cell_type": "code",
      "metadata": {
        "id": "ucQdaxV0cUoI"
      },
      "source": [
        "SZ=28\n",
        "affine_flags = cv2.WARP_INVERSE_MAP|cv2.INTER_LINEAR\n",
        "\n",
        "def deskew(img):\n",
        "    m = cv2.moments(img)\n",
        "    if abs(m['mu02']) < 1e-2:\n",
        "        return img.copy()\n",
        "    skew = m['mu11']/m['mu02']\n",
        "    M = np.float32([[1, skew, -0.5*SZ*skew], [0, 1, 0]])\n",
        "    img = cv2.warpAffine(img,M,(SZ, SZ),flags=affine_flags)\n",
        "    return img"
      ],
      "execution_count": 22,
      "outputs": []
    },
    {
      "cell_type": "code",
      "metadata": {
        "id": "MNLMmp1lccMa"
      },
      "source": [
        "def showOpencvImage(image, isGray=False):\n",
        "    fig = plt.figure(figsize=(6, 6))\n",
        "    plt.imshow(image, cmap = 'gray')\n",
        "    plt.show()"
      ],
      "execution_count": 23,
      "outputs": []
    },
    {
      "cell_type": "code",
      "metadata": {
        "id": "aM0rQWymcfQ5"
      },
      "source": [
        "def openCVHOG(im):\n",
        "    winSize = (20,20)\n",
        "    blockSize = (10,10)\n",
        "    blockStride = (5,5)\n",
        "    cellSize = (10,10)\n",
        "    nbins = 9\n",
        "    derivAperture = 1\n",
        "    winSigma = -1.\n",
        "    histogramNormType = 0\n",
        "    L2HysThreshold = 0.2\n",
        "    gammaCorrection = 1\n",
        "    nlevels = 64\n",
        "    signedGradients = True\n",
        "\n",
        "    hog = cv2.HOGDescriptor(winSize,blockSize,blockStride,cellSize,nbins,derivAperture,winSigma,histogramNormType,L2HysThreshold,gammaCorrection,nlevels, signedGradients)\n",
        "    descriptor = np.ravel(hog.compute(im))\n",
        "    \n",
        "    return descriptor"
      ],
      "execution_count": 24,
      "outputs": []
    },
    {
      "cell_type": "markdown",
      "metadata": {
        "id": "bXf3uAl7dI2M"
      },
      "source": [
        "# Przygotowanie danych"
      ]
    },
    {
      "cell_type": "markdown",
      "metadata": {
        "id": "7SgATEIa2yyT"
      },
      "source": [
        "Ładowanie danych surowych"
      ]
    },
    {
      "cell_type": "code",
      "metadata": {
        "id": "OdXSj-BMc6Bv"
      },
      "source": [
        "(train_images, train_labels), (test_images, test_labels) = mnist.load_data()"
      ],
      "execution_count": 41,
      "outputs": []
    },
    {
      "cell_type": "markdown",
      "metadata": {
        "id": "3yeyWa9N3BO7"
      },
      "source": [
        "Spłaszczenie zestawu danych"
      ]
    },
    {
      "cell_type": "code",
      "metadata": {
        "colab": {
          "base_uri": "https://localhost:8080/"
        },
        "id": "kjT6C7F1dOBy",
        "outputId": "73f2e0fc-c152-4677-89be-27b6aafc9a83"
      },
      "source": [
        "print(\"Shape of train set before flattening data: \", train_images.shape)\n",
        "print(\"Shape of test set before flattening data: \", test_images.shape)\n",
        "\n",
        "# 3D -> 2D\n",
        "train_raw = train_images.reshape(train_images.shape[0], train_images.shape[1]**2)\n",
        "print(\"Train set after flattening: \", train_raw.shape)\n",
        "\n",
        "test_raw = test_images.reshape(test_images.shape[0], test_images.shape[1]**2)\n",
        "print(\"Test set after flattening: \", test_raw.shape)"
      ],
      "execution_count": 42,
      "outputs": [
        {
          "output_type": "stream",
          "text": [
            "Shape of train set before flattening data:  (60000, 28, 28)\n",
            "Shape of test set before flattening data:  (10000, 28, 28)\n",
            "Train set after flattening:  (60000, 784)\n",
            "Test set after flattening:  (10000, 784)\n"
          ],
          "name": "stdout"
        }
      ]
    },
    {
      "cell_type": "markdown",
      "metadata": {
        "id": "mC0Wk2lB4dDA"
      },
      "source": [
        "Spłaszczenie zbiorów danych dla obrazów wyrównanych"
      ]
    },
    {
      "cell_type": "code",
      "metadata": {
        "id": "wdJQH-iC4cQG"
      },
      "source": [
        "train_deskewed = np.array([deskew(im) for im in train_images])\n",
        "test_deskewed = np.array([deskew(im) for im in test_images])\n",
        "\n",
        "train_deskewed = np.asarray(train_deskewed).reshape(-1,28*28)\n",
        "test_deskewed = np.asarray(test_deskewed).reshape(-1,28*28)"
      ],
      "execution_count": 43,
      "outputs": []
    },
    {
      "cell_type": "code",
      "metadata": {
        "colab": {
          "base_uri": "https://localhost:8080/"
        },
        "id": "pV84bTwc_p3I",
        "outputId": "73ec9509-2f3f-42f4-88e4-b0a09afe97f0"
      },
      "source": [
        "print(train_deskewed.shape)"
      ],
      "execution_count": 44,
      "outputs": [
        {
          "output_type": "stream",
          "text": [
            "(60000, 784)\n"
          ],
          "name": "stdout"
        }
      ]
    },
    {
      "cell_type": "markdown",
      "metadata": {
        "id": "0yBrsydV5L4N"
      },
      "source": [
        "Zastosowanie HOG na danych"
      ]
    },
    {
      "cell_type": "code",
      "metadata": {
        "id": "MM3TEEwdK3YU"
      },
      "source": [
        "hogdata_raw_train = np.float32([openCVHOG(im) for im in train_images]).reshape(-1, 81)\n",
        "hogdata_raw_test = np.float32([openCVHOG(im) for im in test_images]).reshape(-1, 81)\n",
        "\n",
        "hogdata_deskewed_train = np.float32([openCVHOG(deskew(im)) for im in train_images]).reshape(-1, 81)\n",
        "hogdata_deskewed_test = np.float32([openCVHOG(deskew(im)) for im in test_images]).reshape(-1, 81)"
      ],
      "execution_count": 45,
      "outputs": []
    },
    {
      "cell_type": "code",
      "metadata": {
        "colab": {
          "base_uri": "https://localhost:8080/"
        },
        "id": "Xxh58rJG9KHB",
        "outputId": "58750e5e-8ab6-4f63-ea4c-0f28226e6240"
      },
      "source": [
        "print(hogdata_raw_train.shape)"
      ],
      "execution_count": 46,
      "outputs": [
        {
          "output_type": "stream",
          "text": [
            "(60000, 81)\n"
          ],
          "name": "stdout"
        }
      ]
    },
    {
      "cell_type": "markdown",
      "metadata": {
        "id": "hGLi0ykC6Tw9"
      },
      "source": [
        "# Przypadek bazowy dla porównywania: trening klasyfikatorów i sieci neuronowej obrazami wyrównanymi po zastosowaniu funkcji OpenCVHOG"
      ]
    },
    {
      "cell_type": "markdown",
      "metadata": {
        "id": "VIDxiP_XG2uw"
      },
      "source": [
        "### Support Vector Classifier"
      ]
    },
    {
      "cell_type": "markdown",
      "metadata": {
        "id": "R7dkueXqG_Wd"
      },
      "source": [
        "**Wybór modelu.**\n",
        " W tym miejscu i dalej stosowana jest funkcja GridSearchCV, co powoduje sprawdzanie każdego z zestawów parametrów z użyciem 5-krotnej walidacji krzyżowej. Generator walidacji krzyżowej StartifiedKFold powoduje, że podczas walidacji krzyżowej podział danych jest równomierny: w zbiorze treningowym i testowym jest taki sam stosunek liczby danych, należących do każdej z klas, do całkowitego rozmiaru zbioru."
      ]
    },
    {
      "cell_type": "code",
      "metadata": {
        "colab": {
          "base_uri": "https://localhost:8080/"
        },
        "id": "nmE_ZWie8g8p",
        "outputId": "e1742da5-0a6d-40de-f26d-a7f0ba76717f"
      },
      "source": [
        "from sklearn.svm import SVC\n",
        "from sklearn.model_selection import GridSearchCV\n",
        "from sklearn.model_selection import ShuffleSplit\n",
        "from sklearn.model_selection import StratifiedKFold\n",
        "\n",
        "parameters = {\n",
        "    'C' : [0.01, 0.25, 0.5, 2, 5, 15, 20, 25],\n",
        "    'gamma' : [0.25, 0.5, 0.75]\n",
        "}\n",
        "\n",
        "model = SVC()\n",
        "clf_svc = GridSearchCV(model, parameters, scoring='accuracy', cv=StratifiedKFold())\n",
        "clf_svc.fit(hogdata_deskewed_train[:1000], train_labels[:1000])\n",
        "print(clf_svc.best_params_)"
      ],
      "execution_count": null,
      "outputs": [
        {
          "output_type": "stream",
          "text": [
            "{'C': 2, 'gamma': 0.5}\n"
          ],
          "name": "stdout"
        }
      ]
    },
    {
      "cell_type": "markdown",
      "metadata": {
        "id": "mHIui8i5D1X6"
      },
      "source": [
        "Testowanie modelu SVC dla obrazów wyrównanych"
      ]
    },
    {
      "cell_type": "code",
      "metadata": {
        "id": "JRa1jRMrEAMS"
      },
      "source": [
        "model = clf_svc.best_estimator_\n",
        "model = model.fit(hogdata_deskewed_train, train_labels)\n",
        "pred_labels = model.predict(hogdata_deskewed_test)"
      ],
      "execution_count": null,
      "outputs": []
    },
    {
      "cell_type": "code",
      "metadata": {
        "id": "LDNLtwbeEDzd",
        "colab": {
          "base_uri": "https://localhost:8080/"
        },
        "outputId": "8cc9e8bf-3032-4d52-d5de-1e7a8f8668e9"
      },
      "source": [
        "mask = pred_labels==test_labels\n",
        "correct = np.count_nonzero(mask)\n",
        "print(correct*100.0/pred_labels.size)\n",
        "\n",
        "cm = confusion_matrix(test_labels, pred_labels)\n",
        "print(cm)\n",
        "print(classification_report(test_labels, pred_labels))"
      ],
      "execution_count": null,
      "outputs": [
        {
          "output_type": "stream",
          "text": [
            "98.38\n",
            "[[ 973    1    1    0    0    2    1    1    0    1]\n",
            " [   0 1128    1    0    0    0    2    4    0    0]\n",
            " [   0    1 1015    1    0    0    1   11    3    0]\n",
            " [   0    0    4  997    0    3    0    4    2    0]\n",
            " [   1    0    2    0  967    1    4    0    1    6]\n",
            " [   0    0    1    3    0  879    3    2    3    1]\n",
            " [   3    2    1    0    9    3  940    0    0    0]\n",
            " [   1    4    9    5    0    0    0 1006    2    1]\n",
            " [   0    0    3    5    6    2    0    1  945   12]\n",
            " [   2    0    1    0    5    4    1    2    6  988]]\n",
            "              precision    recall  f1-score   support\n",
            "\n",
            "           0       0.99      0.99      0.99       980\n",
            "           1       0.99      0.99      0.99      1135\n",
            "           2       0.98      0.98      0.98      1032\n",
            "           3       0.99      0.99      0.99      1010\n",
            "           4       0.98      0.98      0.98       982\n",
            "           5       0.98      0.99      0.98       892\n",
            "           6       0.99      0.98      0.98       958\n",
            "           7       0.98      0.98      0.98      1028\n",
            "           8       0.98      0.97      0.98       974\n",
            "           9       0.98      0.98      0.98      1009\n",
            "\n",
            "    accuracy                           0.98     10000\n",
            "   macro avg       0.98      0.98      0.98     10000\n",
            "weighted avg       0.98      0.98      0.98     10000\n",
            "\n"
          ],
          "name": "stdout"
        }
      ]
    },
    {
      "cell_type": "markdown",
      "metadata": {
        "id": "6dhSxB9mYSMc"
      },
      "source": [
        "### Random Forest Classifier"
      ]
    },
    {
      "cell_type": "markdown",
      "metadata": {
        "id": "uMRNqibYFY1p"
      },
      "source": [
        "Wybór modelu:"
      ]
    },
    {
      "cell_type": "code",
      "metadata": {
        "id": "ROVUoN8cE2Wn",
        "colab": {
          "base_uri": "https://localhost:8080/"
        },
        "outputId": "7cfb9326-a798-4d64-ddb2-eb39df7cf8fb"
      },
      "source": [
        "parameters = {\n",
        "    'max_depth' : [4**n for n in range(1, 5)],\n",
        "    'max_features' : [10*n for n in range(1, 5)]\n",
        "}\n",
        "model = RandomForestClassifier()\n",
        "clf_rfc = GridSearchCV(model, parameters, scoring='accuracy', cv=StratifiedKFold())\n",
        "clf_rfc.fit(hogdata_deskewed_train[:1000], train_labels[:1000])\n",
        "print(clf_rfc.best_params_)"
      ],
      "execution_count": null,
      "outputs": [
        {
          "output_type": "stream",
          "text": [
            "{'max_depth': 16, 'max_features': 10}\n"
          ],
          "name": "stdout"
        }
      ]
    },
    {
      "cell_type": "markdown",
      "metadata": {
        "id": "zJyZevLgFoxa"
      },
      "source": [
        "Testowanie modelu dla obrazów wyrównanych"
      ]
    },
    {
      "cell_type": "code",
      "metadata": {
        "colab": {
          "base_uri": "https://localhost:8080/"
        },
        "id": "LmcQNcygFFgS",
        "outputId": "875dd20d-96ea-4780-8c01-0e77d0b2593b"
      },
      "source": [
        "rfc =  clf_rfc.best_estimator_\n",
        "rfc = rfc.fit(hogdata_deskewed_train,train_labels)\n",
        "\n",
        "pred_labels = rfc.predict(hogdata_deskewed_test)\n",
        "\n",
        "mask = pred_labels==test_labels\n",
        "correct = np.count_nonzero(mask)\n",
        "print(correct*100.0/pred_labels.size)\n",
        "\n",
        "cm = confusion_matrix(test_labels, pred_labels)\n",
        "print(cm)\n",
        "print(classification_report(test_labels, pred_labels))"
      ],
      "execution_count": null,
      "outputs": [
        {
          "output_type": "stream",
          "text": [
            "97.03\n",
            "[[ 960    0    4    0    1    3    4    2    1    5]\n",
            " [   0 1126    3    1    0    0    1    3    1    0]\n",
            " [   1    1 1007    1    0    0    4   13    3    2]\n",
            " [   0    1   14  983    0    2    0    6    2    2]\n",
            " [   1    1    0    0  955    1    8    0    2   14]\n",
            " [   4    0    0    3    0  875    1    1    5    3]\n",
            " [   7    3    0    0   10    5  928    0    4    1]\n",
            " [   4    1   26   12    0    0    0  974    5    6]\n",
            " [   0    0    2    8    7    3    3    2  929   20]\n",
            " [   5    0    1    0    4    6    3    2   22  966]]\n",
            "              precision    recall  f1-score   support\n",
            "\n",
            "           0       0.98      0.98      0.98       980\n",
            "           1       0.99      0.99      0.99      1135\n",
            "           2       0.95      0.98      0.96      1032\n",
            "           3       0.98      0.97      0.97      1010\n",
            "           4       0.98      0.97      0.97       982\n",
            "           5       0.98      0.98      0.98       892\n",
            "           6       0.97      0.97      0.97       958\n",
            "           7       0.97      0.95      0.96      1028\n",
            "           8       0.95      0.95      0.95       974\n",
            "           9       0.95      0.96      0.95      1009\n",
            "\n",
            "    accuracy                           0.97     10000\n",
            "   macro avg       0.97      0.97      0.97     10000\n",
            "weighted avg       0.97      0.97      0.97     10000\n",
            "\n"
          ],
          "name": "stdout"
        }
      ]
    },
    {
      "cell_type": "markdown",
      "metadata": {
        "id": "79bM-RPzFyxD"
      },
      "source": [
        "***Wyniki klasyfikacji:***\n",
        "\n",
        "\n",
        "*   SVC: 98.38%\n",
        "*   Las losowy: 97.03%\n",
        "\n"
      ]
    },
    {
      "cell_type": "markdown",
      "metadata": {
        "id": "WZP-hY8gZA3a"
      },
      "source": [
        "### Sieć neuronowa"
      ]
    },
    {
      "cell_type": "markdown",
      "metadata": {
        "id": "lsT8rOF0LOE4"
      },
      "source": [
        "Przygotowanie danych dla sieci neuronowej"
      ]
    },
    {
      "cell_type": "code",
      "metadata": {
        "id": "hOzSWhYYZlvv"
      },
      "source": [
        "from keras.utils import to_categorical\n",
        "\n",
        "encoded_train_labels = to_categorical(train_labels)\n",
        "encoded_test_labels = to_categorical(test_labels)"
      ],
      "execution_count": null,
      "outputs": []
    },
    {
      "cell_type": "markdown",
      "metadata": {
        "id": "qNeROPC7LIrV"
      },
      "source": [
        "Definiowanie sieci neuronowej"
      ]
    },
    {
      "cell_type": "code",
      "metadata": {
        "id": "gZmUtQP3HVA7"
      },
      "source": [
        "from keras.models import Sequential\n",
        "from keras.layers import Dense\n",
        "\n",
        "def create_network():\n",
        "  network = Sequential()\n",
        "  network.add(Dense(512, activation='relu', input_shape=(81,)))\n",
        "  network.add(Dense(10, activation='softmax'))\n",
        "  network.compile(optimizer='rmsprop',\n",
        "                  loss='categorical_crossentropy',\n",
        "                  metrics=['accuracy'])\n",
        "  return network"
      ],
      "execution_count": null,
      "outputs": []
    },
    {
      "cell_type": "markdown",
      "metadata": {
        "id": "DLwVRj2GLE6s"
      },
      "source": [
        "Wybór modelu"
      ]
    },
    {
      "cell_type": "code",
      "metadata": {
        "id": "Y1zXMBmEZE52",
        "colab": {
          "base_uri": "https://localhost:8080/"
        },
        "outputId": "811ace40-7c49-4669-f7dc-244e7caab844"
      },
      "source": [
        "from keras.wrappers.scikit_learn import KerasClassifier\n",
        "\n",
        "model = KerasClassifier(build_fn = create_network, epochs=5, verbose=0)\n",
        "\n",
        "parameters = {\n",
        "    'batch_size' : [4**n for n in range(1, 6)]\n",
        "}\n",
        "\n",
        "grid = GridSearchCV(model, parameters, scoring='accuracy', cv=StratifiedKFold())\n",
        "grid_result = grid.fit(hogdata_deskewed_train[:10000], train_labels[:10000])\n",
        "print(grid_result.best_params_, grid_result.best_score_)"
      ],
      "execution_count": null,
      "outputs": [
        {
          "output_type": "stream",
          "text": [
            "/usr/local/lib/python3.7/dist-packages/tensorflow/python/keras/engine/sequential.py:450: UserWarning: `model.predict_classes()` is deprecated and will be removed after 2021-01-01. Please use instead:* `np.argmax(model.predict(x), axis=-1)`,   if your model does multi-class classification   (e.g. if it uses a `softmax` last-layer activation).* `(model.predict(x) > 0.5).astype(\"int32\")`,   if your model does binary classification   (e.g. if it uses a `sigmoid` last-layer activation).\n",
            "  warnings.warn('`model.predict_classes()` is deprecated and '\n"
          ],
          "name": "stderr"
        },
        {
          "output_type": "stream",
          "text": [
            "WARNING:tensorflow:5 out of the last 15 calls to <function Model.make_predict_function.<locals>.predict_function at 0x7f96e7f0b560> triggered tf.function retracing. Tracing is expensive and the excessive number of tracings could be due to (1) creating @tf.function repeatedly in a loop, (2) passing tensors with different shapes, (3) passing Python objects instead of tensors. For (1), please define your @tf.function outside of the loop. For (2), @tf.function has experimental_relax_shapes=True option that relaxes argument shapes that can avoid unnecessary retracing. For (3), please refer to https://www.tensorflow.org/guide/function#controlling_retracing and https://www.tensorflow.org/api_docs/python/tf/function for  more details.\n",
            "WARNING:tensorflow:6 out of the last 17 calls to <function Model.make_predict_function.<locals>.predict_function at 0x7f96ddda3200> triggered tf.function retracing. Tracing is expensive and the excessive number of tracings could be due to (1) creating @tf.function repeatedly in a loop, (2) passing tensors with different shapes, (3) passing Python objects instead of tensors. For (1), please define your @tf.function outside of the loop. For (2), @tf.function has experimental_relax_shapes=True option that relaxes argument shapes that can avoid unnecessary retracing. For (3), please refer to https://www.tensorflow.org/guide/function#controlling_retracing and https://www.tensorflow.org/api_docs/python/tf/function for  more details.\n",
            "{'batch_size': 64} 0.9556999999999999\n"
          ],
          "name": "stdout"
        }
      ]
    },
    {
      "cell_type": "markdown",
      "metadata": {
        "id": "U5g-gZhJWvOU"
      },
      "source": [
        "Testowanie sieci neuronowej na obrazach wyrównanych"
      ]
    },
    {
      "cell_type": "code",
      "metadata": {
        "colab": {
          "base_uri": "https://localhost:8080/"
        },
        "id": "ugHbHf4jW0P2",
        "outputId": "9c0e1709-871d-488f-e797-f516fc4daed8"
      },
      "source": [
        "network = create_network()\n",
        "network.fit(hogdata_deskewed_train, encoded_train_labels, epochs=5, batch_size=64)"
      ],
      "execution_count": null,
      "outputs": [
        {
          "output_type": "stream",
          "text": [
            "Epoch 1/5\n",
            "938/938 [==============================] - 2s 2ms/step - loss: 0.5058 - accuracy: 0.8866\n",
            "Epoch 2/5\n",
            "938/938 [==============================] - 2s 2ms/step - loss: 0.1192 - accuracy: 0.9625\n",
            "Epoch 3/5\n",
            "938/938 [==============================] - 2s 2ms/step - loss: 0.1028 - accuracy: 0.9676\n",
            "Epoch 4/5\n",
            "938/938 [==============================] - 2s 2ms/step - loss: 0.0942 - accuracy: 0.9702\n",
            "Epoch 5/5\n",
            "938/938 [==============================] - 2s 2ms/step - loss: 0.0876 - accuracy: 0.9719\n"
          ],
          "name": "stdout"
        },
        {
          "output_type": "execute_result",
          "data": {
            "text/plain": [
              "<tensorflow.python.keras.callbacks.History at 0x7f96d98a4050>"
            ]
          },
          "metadata": {
            "tags": []
          },
          "execution_count": 26
        }
      ]
    },
    {
      "cell_type": "code",
      "metadata": {
        "colab": {
          "base_uri": "https://localhost:8080/"
        },
        "id": "g8SLiFNIW7lt",
        "outputId": "76e749f3-206a-43e7-bf10-ba63bd3b786d"
      },
      "source": [
        "test_loss, test_acc = network.evaluate(hogdata_deskewed_test, encoded_test_labels)\n",
        "print('test_acc:', test_acc)"
      ],
      "execution_count": null,
      "outputs": [
        {
          "output_type": "stream",
          "text": [
            "313/313 [==============================] - 0s 955us/step - loss: 0.0792 - accuracy: 0.9754\n",
            "test_acc: 0.9753999710083008\n"
          ],
          "name": "stdout"
        }
      ]
    },
    {
      "cell_type": "code",
      "metadata": {
        "colab": {
          "base_uri": "https://localhost:8080/"
        },
        "id": "B3c00e_sXYV0",
        "outputId": "402cc7f7-c0c5-4b02-a34d-e79015c69132"
      },
      "source": [
        "pred_probabilities = network.predict(hogdata_deskewed_test)\n",
        "pred_labels = np.argmax(pred_probabilities,-1)"
      ],
      "execution_count": null,
      "outputs": [
        {
          "output_type": "stream",
          "text": [
            "WARNING:tensorflow:6 out of the last 11 calls to <function Model.make_predict_function.<locals>.predict_function at 0x7f96da924440> triggered tf.function retracing. Tracing is expensive and the excessive number of tracings could be due to (1) creating @tf.function repeatedly in a loop, (2) passing tensors with different shapes, (3) passing Python objects instead of tensors. For (1), please define your @tf.function outside of the loop. For (2), @tf.function has experimental_relax_shapes=True option that relaxes argument shapes that can avoid unnecessary retracing. For (3), please refer to https://www.tensorflow.org/guide/function#controlling_retracing and https://www.tensorflow.org/api_docs/python/tf/function for  more details.\n"
          ],
          "name": "stdout"
        }
      ]
    },
    {
      "cell_type": "code",
      "metadata": {
        "colab": {
          "base_uri": "https://localhost:8080/"
        },
        "id": "fydgBGvcXcY3",
        "outputId": "0ae8aff5-31e5-4b2b-c240-d3211c0935d3"
      },
      "source": [
        "cm = confusion_matrix(test_labels, pred_labels)\n",
        "print(cm)\n",
        "print(classification_report(test_labels, pred_labels))"
      ],
      "execution_count": null,
      "outputs": [
        {
          "output_type": "stream",
          "text": [
            "[[ 960    0    1    0    3    2    6    3    0    5]\n",
            " [   1 1120    1    2    2    0    2    6    1    0]\n",
            " [   0    1  991    8    1    0    0   28    3    0]\n",
            " [   0    1    5  980    0    9    0   12    3    0]\n",
            " [   2    0    1    0  969    1    5    0    0    4]\n",
            " [   0    0    1    3    1  881    1    1    0    4]\n",
            " [   2    1    1    0   10    4  939    0    0    1]\n",
            " [   2    1    7    6    0    1    0 1007    2    2]\n",
            " [   0    0    3    7   10    4    2    4  924   20]\n",
            " [   2    0    1    0    6    3    2    5    7  983]]\n",
            "              precision    recall  f1-score   support\n",
            "\n",
            "           0       0.99      0.98      0.99       980\n",
            "           1       1.00      0.99      0.99      1135\n",
            "           2       0.98      0.96      0.97      1032\n",
            "           3       0.97      0.97      0.97      1010\n",
            "           4       0.97      0.99      0.98       982\n",
            "           5       0.97      0.99      0.98       892\n",
            "           6       0.98      0.98      0.98       958\n",
            "           7       0.94      0.98      0.96      1028\n",
            "           8       0.98      0.95      0.97       974\n",
            "           9       0.96      0.97      0.97      1009\n",
            "\n",
            "    accuracy                           0.98     10000\n",
            "   macro avg       0.98      0.98      0.98     10000\n",
            "weighted avg       0.98      0.98      0.98     10000\n",
            "\n"
          ],
          "name": "stdout"
        }
      ]
    },
    {
      "cell_type": "markdown",
      "metadata": {
        "id": "xeYxOBGsBLpC"
      },
      "source": [
        "**Wynik klasyfikacji: 97.54%**"
      ]
    },
    {
      "cell_type": "markdown",
      "metadata": {
        "id": "HFxtcHHle4cw"
      },
      "source": [
        "# Zadanie 2. Trening klasyfikatorów i sieci neuronowej obrazami oryginalnymi bez wyrównania"
      ]
    },
    {
      "cell_type": "markdown",
      "metadata": {
        "id": "PikHLsqr8o-9"
      },
      "source": [
        "###Support Vector Classifier"
      ]
    },
    {
      "cell_type": "markdown",
      "metadata": {
        "id": "hMMfMC9rTV7f"
      },
      "source": [
        "Wybór modelu"
      ]
    },
    {
      "cell_type": "code",
      "metadata": {
        "id": "p-UkiDXl8PPk",
        "colab": {
          "base_uri": "https://localhost:8080/"
        },
        "outputId": "ab858eea-a464-49ca-9976-860e0d0fdbcb"
      },
      "source": [
        "parameters = {\n",
        "    'C' : [0.01, 0.25, 0.5, 2, 5, 15, 20, 25],\n",
        "    'gamma' : [0.25, 0.5, 0.75]\n",
        "}\n",
        "\n",
        "model = SVC()\n",
        "clf_svc = GridSearchCV(model, parameters, scoring='accuracy', cv=StratifiedKFold())\n",
        "clf_svc.fit(hogdata_raw_train[:1000], train_labels[:1000])\n",
        "print(clf_svc.best_params_)"
      ],
      "execution_count": null,
      "outputs": [
        {
          "output_type": "stream",
          "text": [
            "{'C': 15, 'gamma': 0.25}\n"
          ],
          "name": "stdout"
        }
      ]
    },
    {
      "cell_type": "markdown",
      "metadata": {
        "id": "1WS9xmZBA_OR"
      },
      "source": [
        "Testowanie modelu"
      ]
    },
    {
      "cell_type": "code",
      "metadata": {
        "id": "vuoPCgzwQkle"
      },
      "source": [
        "model = clf_svc.best_estimator_\n",
        "model = model.fit(hogdata_raw_train, train_labels)\n",
        "\n",
        "pred_labels = model.predict(hogdata_raw_test)"
      ],
      "execution_count": null,
      "outputs": []
    },
    {
      "cell_type": "code",
      "metadata": {
        "colab": {
          "base_uri": "https://localhost:8080/"
        },
        "id": "5xIer9MNYIkl",
        "outputId": "54858e9f-b7d4-41c5-8ed2-14896f743b47"
      },
      "source": [
        "mask = pred_labels==test_labels\n",
        "correct = np.count_nonzero(mask)\n",
        "print(correct*100.0/pred_labels.size)\n",
        "\n",
        "cm = confusion_matrix(test_labels, pred_labels)\n",
        "print(cm)\n",
        "print(classification_report(test_labels, pred_labels))"
      ],
      "execution_count": null,
      "outputs": [
        {
          "output_type": "stream",
          "text": [
            "97.63\n",
            "[[ 963    2    3    0    0    1    8    1    0    2]\n",
            " [   0 1126    1    1    0    0    2    5    0    0]\n",
            " [   2    1 1006    6    0    0    0   16    1    0]\n",
            " [   0    1    5  991    0    4    0    6    3    0]\n",
            " [   2    1    1    0  962    0    4    1    2    9]\n",
            " [   2    1    1    8    1  870    3    1    3    2]\n",
            " [  10    3    2    0    5    2  935    0    1    0]\n",
            " [   0    6   14    9    0    0    0  998    0    1]\n",
            " [   0    0    3   10    3    5    2    1  934   16]\n",
            " [   6    0    0    2    5    5    2    1   10  978]]\n",
            "              precision    recall  f1-score   support\n",
            "\n",
            "           0       0.98      0.98      0.98       980\n",
            "           1       0.99      0.99      0.99      1135\n",
            "           2       0.97      0.97      0.97      1032\n",
            "           3       0.96      0.98      0.97      1010\n",
            "           4       0.99      0.98      0.98       982\n",
            "           5       0.98      0.98      0.98       892\n",
            "           6       0.98      0.98      0.98       958\n",
            "           7       0.97      0.97      0.97      1028\n",
            "           8       0.98      0.96      0.97       974\n",
            "           9       0.97      0.97      0.97      1009\n",
            "\n",
            "    accuracy                           0.98     10000\n",
            "   macro avg       0.98      0.98      0.98     10000\n",
            "weighted avg       0.98      0.98      0.98     10000\n",
            "\n"
          ],
          "name": "stdout"
        }
      ]
    },
    {
      "cell_type": "markdown",
      "metadata": {
        "id": "l4De1qcb83bs"
      },
      "source": [
        "### Random Forest Classifier"
      ]
    },
    {
      "cell_type": "markdown",
      "metadata": {
        "id": "DyhSwSkiA63o"
      },
      "source": [
        "Wybór modelu"
      ]
    },
    {
      "cell_type": "code",
      "metadata": {
        "id": "TyEFSx8v87Ut",
        "colab": {
          "base_uri": "https://localhost:8080/"
        },
        "outputId": "083223fc-d129-4e3a-dc8f-a5fa4ba946dd"
      },
      "source": [
        "parameters = {\n",
        "    'max_depth' : [4**n for n in range(1, 5)],\n",
        "    'max_features' : [10*n for n in range(1, 5)]\n",
        "}\n",
        "model = RandomForestClassifier()\n",
        "clf_rfc = GridSearchCV(model, parameters, scoring='accuracy', cv=StratifiedKFold())\n",
        "clf_rfc.fit(hogdata_raw_train[0:1000], train_labels[0:1000])\n",
        "print(clf_rfc.best_params_)"
      ],
      "execution_count": null,
      "outputs": [
        {
          "output_type": "stream",
          "text": [
            "{'max_depth': 16, 'max_features': 10}\n"
          ],
          "name": "stdout"
        }
      ]
    },
    {
      "cell_type": "markdown",
      "metadata": {
        "id": "8nF23l2SFdgb"
      },
      "source": [
        "Testowanie modelu dla danych niewyrównanych"
      ]
    },
    {
      "cell_type": "code",
      "metadata": {
        "colab": {
          "base_uri": "https://localhost:8080/"
        },
        "id": "pYjhCn4XYRNf",
        "outputId": "95e8a090-6277-4059-918d-aa5ea2ecb4cb"
      },
      "source": [
        "rfc =  clf_rfc.best_estimator_\n",
        "rfc = rfc.fit(hogdata_raw_train,train_labels)\n",
        "\n",
        "pred_labels = rfc.predict(hogdata_raw_test)\n",
        "\n",
        "mask = pred_labels==test_labels\n",
        "correct = np.count_nonzero(mask)\n",
        "print(correct*100.0/pred_labels.size)\n",
        "\n",
        "cm = confusion_matrix(test_labels, pred_labels)\n",
        "print(cm)\n",
        "print(classification_report(test_labels, pred_labels))"
      ],
      "execution_count": null,
      "outputs": [
        {
          "output_type": "stream",
          "text": [
            "96.01\n",
            "[[ 957    1    2    0    3    9    5    1    0    2]\n",
            " [   0 1124    3    0    1    1    1    3    2    0]\n",
            " [   2    1  990    6    2    0    2   19    7    3]\n",
            " [   0    0   13  976    0    4    0   10    5    2]\n",
            " [   4    0    0    1  946    2   12    0    3   14]\n",
            " [   2    2    1    8    0  858    1    2   13    5]\n",
            " [  15    3    3    0    6    9  918    0    2    2]\n",
            " [   2    1   33   19    0    1    0  962    4    6]\n",
            " [   1    0    6    7    9    9    4    2  914   22]\n",
            " [  13    0    0    0    3    9    2    1   25  956]]\n",
            "              precision    recall  f1-score   support\n",
            "\n",
            "           0       0.96      0.98      0.97       980\n",
            "           1       0.99      0.99      0.99      1135\n",
            "           2       0.94      0.96      0.95      1032\n",
            "           3       0.96      0.97      0.96      1010\n",
            "           4       0.98      0.96      0.97       982\n",
            "           5       0.95      0.96      0.96       892\n",
            "           6       0.97      0.96      0.96       958\n",
            "           7       0.96      0.94      0.95      1028\n",
            "           8       0.94      0.94      0.94       974\n",
            "           9       0.94      0.95      0.95      1009\n",
            "\n",
            "    accuracy                           0.96     10000\n",
            "   macro avg       0.96      0.96      0.96     10000\n",
            "weighted avg       0.96      0.96      0.96     10000\n",
            "\n"
          ],
          "name": "stdout"
        }
      ]
    },
    {
      "cell_type": "markdown",
      "metadata": {
        "id": "we-FEGta_Z3n"
      },
      "source": [
        "### Sieć neuronowa"
      ]
    },
    {
      "cell_type": "markdown",
      "metadata": {
        "id": "YjiyMUN5zJ9V"
      },
      "source": [
        "Wybór hiperparametrów modelu"
      ]
    },
    {
      "cell_type": "code",
      "metadata": {
        "id": "yvcnwTUA89NQ",
        "colab": {
          "base_uri": "https://localhost:8080/"
        },
        "outputId": "2c1beb1c-3a33-497d-808f-6fb5c20328d2"
      },
      "source": [
        "model = KerasClassifier(build_fn = create_network, epochs=5, verbose=0)\n",
        "\n",
        "parameters = {\n",
        "    'batch_size' : [4**n for n in range(1, 6)]\n",
        "}\n",
        "\n",
        "grid = GridSearchCV(model, parameters, scoring='accuracy', cv=StratifiedKFold())\n",
        "grid_result = grid.fit(hogdata_raw_train[:10000], train_labels[:10000])\n",
        "print(grid_result.best_params_, grid_result.best_score_)"
      ],
      "execution_count": null,
      "outputs": [
        {
          "output_type": "stream",
          "text": [
            "/usr/local/lib/python3.7/dist-packages/tensorflow/python/keras/engine/sequential.py:450: UserWarning: `model.predict_classes()` is deprecated and will be removed after 2021-01-01. Please use instead:* `np.argmax(model.predict(x), axis=-1)`,   if your model does multi-class classification   (e.g. if it uses a `softmax` last-layer activation).* `(model.predict(x) > 0.5).astype(\"int32\")`,   if your model does binary classification   (e.g. if it uses a `sigmoid` last-layer activation).\n",
            "  warnings.warn('`model.predict_classes()` is deprecated and '\n"
          ],
          "name": "stderr"
        },
        {
          "output_type": "stream",
          "text": [
            "WARNING:tensorflow:5 out of the last 15 calls to <function Model.make_predict_function.<locals>.predict_function at 0x7f96e82e89e0> triggered tf.function retracing. Tracing is expensive and the excessive number of tracings could be due to (1) creating @tf.function repeatedly in a loop, (2) passing tensors with different shapes, (3) passing Python objects instead of tensors. For (1), please define your @tf.function outside of the loop. For (2), @tf.function has experimental_relax_shapes=True option that relaxes argument shapes that can avoid unnecessary retracing. For (3), please refer to https://www.tensorflow.org/guide/function#controlling_retracing and https://www.tensorflow.org/api_docs/python/tf/function for  more details.\n",
            "WARNING:tensorflow:6 out of the last 17 calls to <function Model.make_predict_function.<locals>.predict_function at 0x7f96daa2cb00> triggered tf.function retracing. Tracing is expensive and the excessive number of tracings could be due to (1) creating @tf.function repeatedly in a loop, (2) passing tensors with different shapes, (3) passing Python objects instead of tensors. For (1), please define your @tf.function outside of the loop. For (2), @tf.function has experimental_relax_shapes=True option that relaxes argument shapes that can avoid unnecessary retracing. For (3), please refer to https://www.tensorflow.org/guide/function#controlling_retracing and https://www.tensorflow.org/api_docs/python/tf/function for  more details.\n",
            "{'batch_size': 4} 0.9433999999999999\n"
          ],
          "name": "stdout"
        }
      ]
    },
    {
      "cell_type": "markdown",
      "metadata": {
        "id": "_m43juw8zj7W"
      },
      "source": [
        "Trening modelu"
      ]
    },
    {
      "cell_type": "code",
      "metadata": {
        "colab": {
          "base_uri": "https://localhost:8080/"
        },
        "id": "moXaTN3EZrV7",
        "outputId": "998cb0c1-1642-4372-84cb-a617a8dca23f"
      },
      "source": [
        "network = create_network()\n",
        "network.fit(hogdata_raw_train, encoded_train_labels, epochs=5, batch_size=4)"
      ],
      "execution_count": null,
      "outputs": [
        {
          "output_type": "stream",
          "text": [
            "Epoch 1/5\n",
            "15000/15000 [==============================] - 18s 1ms/step - loss: 0.3728 - accuracy: 0.8896\n",
            "Epoch 2/5\n",
            "15000/15000 [==============================] - 17s 1ms/step - loss: 0.1994 - accuracy: 0.9465\n",
            "Epoch 3/5\n",
            "15000/15000 [==============================] - 17s 1ms/step - loss: 0.1948 - accuracy: 0.9543\n",
            "Epoch 4/5\n",
            "15000/15000 [==============================] - 17s 1ms/step - loss: 0.1926 - accuracy: 0.9593\n",
            "Epoch 5/5\n",
            "15000/15000 [==============================] - 17s 1ms/step - loss: 0.1929 - accuracy: 0.9587\n"
          ],
          "name": "stdout"
        },
        {
          "output_type": "execute_result",
          "data": {
            "text/plain": [
              "<tensorflow.python.keras.callbacks.History at 0x7f96e7c36b50>"
            ]
          },
          "metadata": {
            "tags": []
          },
          "execution_count": 31
        }
      ]
    },
    {
      "cell_type": "markdown",
      "metadata": {
        "id": "-PUJtFlTzouo"
      },
      "source": [
        "Testowanie działania modelu"
      ]
    },
    {
      "cell_type": "code",
      "metadata": {
        "colab": {
          "base_uri": "https://localhost:8080/"
        },
        "id": "kexciwTmvmbI",
        "outputId": "b5a28821-ac63-4f42-838f-f34a37470ea2"
      },
      "source": [
        "test_loss, test_acc = network.evaluate(hogdata_raw_test, encoded_test_labels)\n",
        "print('test_acc:', test_acc)"
      ],
      "execution_count": null,
      "outputs": [
        {
          "output_type": "stream",
          "text": [
            "313/313 [==============================] - 0s 888us/step - loss: 0.1998 - accuracy: 0.9618\n",
            "test_acc: 0.9617999792098999\n"
          ],
          "name": "stdout"
        }
      ]
    },
    {
      "cell_type": "code",
      "metadata": {
        "colab": {
          "base_uri": "https://localhost:8080/"
        },
        "id": "ohkRt_Xwdnz9",
        "outputId": "2823f803-1daa-4a7a-a86d-97844ae3b146"
      },
      "source": [
        "pred_probabilities = network.predict(hogdata_raw_test)\n",
        "pred_labels = np.argmax(pred_probabilities,-1)"
      ],
      "execution_count": null,
      "outputs": [
        {
          "output_type": "stream",
          "text": [
            "WARNING:tensorflow:6 out of the last 11 calls to <function Model.make_predict_function.<locals>.predict_function at 0x7f96e82f9830> triggered tf.function retracing. Tracing is expensive and the excessive number of tracings could be due to (1) creating @tf.function repeatedly in a loop, (2) passing tensors with different shapes, (3) passing Python objects instead of tensors. For (1), please define your @tf.function outside of the loop. For (2), @tf.function has experimental_relax_shapes=True option that relaxes argument shapes that can avoid unnecessary retracing. For (3), please refer to https://www.tensorflow.org/guide/function#controlling_retracing and https://www.tensorflow.org/api_docs/python/tf/function for  more details.\n"
          ],
          "name": "stdout"
        }
      ]
    },
    {
      "cell_type": "code",
      "metadata": {
        "colab": {
          "base_uri": "https://localhost:8080/"
        },
        "id": "HBVJU3nBv1cu",
        "outputId": "a618eec2-12a2-4b74-bb09-d04e01d8c0dc"
      },
      "source": [
        "cm = confusion_matrix(test_labels, pred_labels)\n",
        "print(cm)\n",
        "print(classification_report(test_labels, pred_labels))"
      ],
      "execution_count": null,
      "outputs": [
        {
          "output_type": "stream",
          "text": [
            "[[ 958    4    7    0    1    1    4    3    2    0]\n",
            " [   0 1124    1    1    1    0    0    3    5    0]\n",
            " [   1    1 1007    2    0    0    0   18    3    0]\n",
            " [   0    1   16  966    1    3    0   20    3    0]\n",
            " [   1    0    3    0  963    1    2    0    6    6]\n",
            " [   3    0    1   10    3  852    1    3   10    9]\n",
            " [  20    5    1    0   24   14  878    0   14    2]\n",
            " [   1    4   28    4    1    1    0  978    3    8]\n",
            " [   2    0    8    6    5    4    1    5  918   25]\n",
            " [   8    1    0    1    6    6    0    3   10  974]]\n",
            "              precision    recall  f1-score   support\n",
            "\n",
            "           0       0.96      0.98      0.97       980\n",
            "           1       0.99      0.99      0.99      1135\n",
            "           2       0.94      0.98      0.96      1032\n",
            "           3       0.98      0.96      0.97      1010\n",
            "           4       0.96      0.98      0.97       982\n",
            "           5       0.97      0.96      0.96       892\n",
            "           6       0.99      0.92      0.95       958\n",
            "           7       0.95      0.95      0.95      1028\n",
            "           8       0.94      0.94      0.94       974\n",
            "           9       0.95      0.97      0.96      1009\n",
            "\n",
            "    accuracy                           0.96     10000\n",
            "   macro avg       0.96      0.96      0.96     10000\n",
            "weighted avg       0.96      0.96      0.96     10000\n",
            "\n"
          ],
          "name": "stdout"
        }
      ]
    },
    {
      "cell_type": "markdown",
      "metadata": {
        "id": "NMBMfGPKDU7Z"
      },
      "source": [
        "**Wynik eksperymentu:**\n",
        "\n",
        "\n",
        "*   SVC : 97.63%\n",
        "*   Las losowy: 96.01%\n",
        "*   Sieć neuronowa: 96.18%\n",
        "\n",
        "Dla wszystkich modeli klasyfikacji wyniki bez wyrównania są gorsze.\n"
      ]
    },
    {
      "cell_type": "markdown",
      "metadata": {
        "id": "-W3yE8eOFIJm"
      },
      "source": [
        "# Zadanie 3. Trenowanie klasyfikatorów i sieci neuronowej obrazami oryginalnymi bez stosowania funkcji OpenCVHOG "
      ]
    },
    {
      "cell_type": "markdown",
      "metadata": {
        "id": "rcpLnfRKFaBA"
      },
      "source": [
        "### Support Vector Classifier"
      ]
    },
    {
      "cell_type": "markdown",
      "metadata": {
        "id": "-ozoer61-ewq"
      },
      "source": [
        "Wybór modelu"
      ]
    },
    {
      "cell_type": "code",
      "metadata": {
        "colab": {
          "base_uri": "https://localhost:8080/"
        },
        "id": "zHupWsCILcBI",
        "outputId": "10afdee2-bc8f-4772-b1bc-86faea215cd5"
      },
      "source": [
        "parameters = {\n",
        "    'C' : np.linspace(0.1, 5, 9),\n",
        "    'gamma' : [10**(-2*n) for n in range(1, 6)]\n",
        "}\n",
        "\n",
        "model = SVC()\n",
        "clf_svc = GridSearchCV(model, parameters, scoring='accuracy', cv=StratifiedKFold())\n",
        "clf_svc.fit(train_deskewed[:1000], train_labels[:1000])\n",
        "print(clf_svc.best_params_, clf_svc.best_score_)"
      ],
      "execution_count": 50,
      "outputs": [
        {
          "output_type": "stream",
          "text": [
            "{'C': 5.0, 'gamma': 1e-08} 0.921\n"
          ],
          "name": "stdout"
        }
      ]
    },
    {
      "cell_type": "markdown",
      "metadata": {
        "id": "cJiC6mvnhbab"
      },
      "source": [
        "Testowanie modelu dla danych spłaszczonych"
      ]
    },
    {
      "cell_type": "code",
      "metadata": {
        "id": "m-ZCAXdLFwZN",
        "colab": {
          "base_uri": "https://localhost:8080/"
        },
        "outputId": "97b81ddd-d97d-424b-c521-0ce00fb2f329"
      },
      "source": [
        "model = clf_svc.best_estimator_\n",
        "model = model.fit(train_deskewed,train_labels)\n",
        "\n",
        "pred_labels = model.predict(test_deskewed)\n",
        "\n",
        "mask = pred_labels==test_labels\n",
        "correct = np.count_nonzero(mask)\n",
        "print(correct*100.0/pred_labels.size)\n",
        "\n",
        "cm = confusion_matrix(test_labels, pred_labels)\n",
        "print(cm)\n",
        "print(classification_report(test_labels, pred_labels))"
      ],
      "execution_count": 51,
      "outputs": [
        {
          "output_type": "stream",
          "text": [
            "96.28\n",
            "[[ 968    0    1    2    0    4    4    0    1    0]\n",
            " [   0 1127    2    2    0    1    2    0    1    0]\n",
            " [  10    0  985    6    4    1    6    6   13    1]\n",
            " [   0    0    7  974    1    8    0    6    9    5]\n",
            " [   2    0    6    0  946    0    4    2    2   20]\n",
            " [   3    0    1   12    7  855    7    0    6    1]\n",
            " [   6    2    6    1    3    9  929    0    2    0]\n",
            " [   3    6   16    0    5    0    0  984    1   13]\n",
            " [   4    1    6    9    6   10    4    2  928    4]\n",
            " [   8    5    3    7   26    3    1   18    6  932]]\n",
            "              precision    recall  f1-score   support\n",
            "\n",
            "           0       0.96      0.99      0.98       980\n",
            "           1       0.99      0.99      0.99      1135\n",
            "           2       0.95      0.95      0.95      1032\n",
            "           3       0.96      0.96      0.96      1010\n",
            "           4       0.95      0.96      0.96       982\n",
            "           5       0.96      0.96      0.96       892\n",
            "           6       0.97      0.97      0.97       958\n",
            "           7       0.97      0.96      0.96      1028\n",
            "           8       0.96      0.95      0.96       974\n",
            "           9       0.95      0.92      0.94      1009\n",
            "\n",
            "    accuracy                           0.96     10000\n",
            "   macro avg       0.96      0.96      0.96     10000\n",
            "weighted avg       0.96      0.96      0.96     10000\n",
            "\n"
          ],
          "name": "stdout"
        }
      ]
    },
    {
      "cell_type": "markdown",
      "metadata": {
        "id": "i4sqWci6Ld3E"
      },
      "source": [
        "### Random Forest Classifier"
      ]
    },
    {
      "cell_type": "markdown",
      "metadata": {
        "id": "GQxIuhsD3f0q"
      },
      "source": [
        "Wybór modelu"
      ]
    },
    {
      "cell_type": "code",
      "metadata": {
        "colab": {
          "base_uri": "https://localhost:8080/"
        },
        "id": "_ZFZbukz261R",
        "outputId": "104e8318-176a-4c44-ace7-95ea5335dc6c"
      },
      "source": [
        "parameters = {\n",
        "    'max_depth' : [4**n for n in range(1, 5)],\n",
        "    'max_features' : [10*n for n in range(1, 5)]\n",
        "}\n",
        "model = RandomForestClassifier()\n",
        "clf_rfc = GridSearchCV(model, parameters, scoring='accuracy', cv=StratifiedKFold())\n",
        "clf_rfc.fit(train_deskewed[0:1000], train_labels[0:1000])\n",
        "print(clf_rfc.best_params_, clf_rfc.best_score_)"
      ],
      "execution_count": null,
      "outputs": [
        {
          "output_type": "stream",
          "text": [
            "{'max_depth': 16, 'max_features': 20} 0.9200000000000002\n"
          ],
          "name": "stdout"
        }
      ]
    },
    {
      "cell_type": "markdown",
      "metadata": {
        "id": "vyNLrpQI3ibt"
      },
      "source": [
        "Testowanie modelu"
      ]
    },
    {
      "cell_type": "code",
      "metadata": {
        "colab": {
          "base_uri": "https://localhost:8080/"
        },
        "id": "X1e1sUpa3SHt",
        "outputId": "14e86d88-0c5a-4d3a-8e84-22c3fe982fb2"
      },
      "source": [
        "model = clf_rfc.best_estimator_\n",
        "model = model.fit(train_deskewed,train_labels)\n",
        "\n",
        "pred_labels = model.predict(test_deskewed)\n",
        "\n",
        "mask = pred_labels==test_labels\n",
        "correct = np.count_nonzero(mask)\n",
        "print(correct*100.0/pred_labels.size)\n",
        "\n",
        "cm = confusion_matrix(test_labels, pred_labels)\n",
        "print(cm)\n",
        "print(classification_report(test_labels, pred_labels))"
      ],
      "execution_count": null,
      "outputs": [
        {
          "output_type": "stream",
          "text": [
            "97.28\n",
            "[[ 972    0    0    0    0    1    3    1    3    0]\n",
            " [   0 1123    3    3    0    1    4    0    1    0]\n",
            " [   6    0 1003    6    1    0    1    6    9    0]\n",
            " [   0    0    8  977    0    8    0    4    8    5]\n",
            " [   1    0    1    0  952    0    5    0    3   20]\n",
            " [   2    0    0   10    1  870    4    0    2    3]\n",
            " [   7    2    0    0    3    4  939    0    3    0]\n",
            " [   2    4   11    0    3    0    0  996    0   12]\n",
            " [   4    0    5    5    5    4    2    2  942    5]\n",
            " [   5    4    1    8   21    3    1    5    7  954]]\n",
            "              precision    recall  f1-score   support\n",
            "\n",
            "           0       0.97      0.99      0.98       980\n",
            "           1       0.99      0.99      0.99      1135\n",
            "           2       0.97      0.97      0.97      1032\n",
            "           3       0.97      0.97      0.97      1010\n",
            "           4       0.97      0.97      0.97       982\n",
            "           5       0.98      0.98      0.98       892\n",
            "           6       0.98      0.98      0.98       958\n",
            "           7       0.98      0.97      0.98      1028\n",
            "           8       0.96      0.97      0.97       974\n",
            "           9       0.95      0.95      0.95      1009\n",
            "\n",
            "    accuracy                           0.97     10000\n",
            "   macro avg       0.97      0.97      0.97     10000\n",
            "weighted avg       0.97      0.97      0.97     10000\n",
            "\n"
          ],
          "name": "stdout"
        }
      ]
    },
    {
      "cell_type": "markdown",
      "metadata": {
        "id": "Vgjb5WX3P0J2"
      },
      "source": [
        "### Sieć neuronowa"
      ]
    },
    {
      "cell_type": "markdown",
      "metadata": {
        "id": "UTJn8dM24dY9"
      },
      "source": [
        "Wybór modelu"
      ]
    },
    {
      "cell_type": "code",
      "metadata": {
        "colab": {
          "base_uri": "https://localhost:8080/"
        },
        "id": "kjH6AFRZ4EKO",
        "outputId": "00d57082-1add-4a47-9473-2549cb806986"
      },
      "source": [
        "def create_network():\n",
        "  network = Sequential()\n",
        "  network.add(Dense(512, activation='relu', input_shape=(28*28,)))\n",
        "  network.add(Dense(10, activation='softmax'))\n",
        "  network.compile(optimizer='rmsprop',\n",
        "                  loss='categorical_crossentropy',\n",
        "                  metrics=['accuracy'])\n",
        "  return network\n",
        "\n",
        "model = KerasClassifier(build_fn = create_network, epochs=5, verbose=0)\n",
        "\n",
        "parameters = {\n",
        "    'batch_size' : [4**n for n in range(1, 6)]\n",
        "}\n",
        "\n",
        "grid = GridSearchCV(model, parameters, scoring='accuracy', cv=StratifiedKFold())\n",
        "grid_result = grid.fit(train_deskewed[:10000], train_labels[:10000])\n",
        "print(grid_result.best_params_, grid_result.best_score_)"
      ],
      "execution_count": null,
      "outputs": [
        {
          "output_type": "stream",
          "text": [
            "WARNING:tensorflow:6 out of the last 11 calls to <function Model.make_predict_function.<locals>.predict_function at 0x7fe0dd507950> triggered tf.function retracing. Tracing is expensive and the excessive number of tracings could be due to (1) creating @tf.function repeatedly in a loop, (2) passing tensors with different shapes, (3) passing Python objects instead of tensors. For (1), please define your @tf.function outside of the loop. For (2), @tf.function has experimental_relax_shapes=True option that relaxes argument shapes that can avoid unnecessary retracing. For (3), please refer to https://www.tensorflow.org/guide/function#controlling_retracing and https://www.tensorflow.org/api_docs/python/tf/function for  more details.\n"
          ],
          "name": "stdout"
        },
        {
          "output_type": "stream",
          "text": [
            "/usr/local/lib/python3.7/dist-packages/tensorflow/python/keras/engine/sequential.py:450: UserWarning: `model.predict_classes()` is deprecated and will be removed after 2021-01-01. Please use instead:* `np.argmax(model.predict(x), axis=-1)`,   if your model does multi-class classification   (e.g. if it uses a `softmax` last-layer activation).* `(model.predict(x) > 0.5).astype(\"int32\")`,   if your model does binary classification   (e.g. if it uses a `sigmoid` last-layer activation).\n",
            "  warnings.warn('`model.predict_classes()` is deprecated and '\n"
          ],
          "name": "stderr"
        },
        {
          "output_type": "stream",
          "text": [
            "WARNING:tensorflow:5 out of the last 15 calls to <function Model.make_predict_function.<locals>.predict_function at 0x7fe0dcf2a560> triggered tf.function retracing. Tracing is expensive and the excessive number of tracings could be due to (1) creating @tf.function repeatedly in a loop, (2) passing tensors with different shapes, (3) passing Python objects instead of tensors. For (1), please define your @tf.function outside of the loop. For (2), @tf.function has experimental_relax_shapes=True option that relaxes argument shapes that can avoid unnecessary retracing. For (3), please refer to https://www.tensorflow.org/guide/function#controlling_retracing and https://www.tensorflow.org/api_docs/python/tf/function for  more details.\n",
            "WARNING:tensorflow:6 out of the last 17 calls to <function Model.make_predict_function.<locals>.predict_function at 0x7fe0e1390f80> triggered tf.function retracing. Tracing is expensive and the excessive number of tracings could be due to (1) creating @tf.function repeatedly in a loop, (2) passing tensors with different shapes, (3) passing Python objects instead of tensors. For (1), please define your @tf.function outside of the loop. For (2), @tf.function has experimental_relax_shapes=True option that relaxes argument shapes that can avoid unnecessary retracing. For (3), please refer to https://www.tensorflow.org/guide/function#controlling_retracing and https://www.tensorflow.org/api_docs/python/tf/function for  more details.\n",
            "{'batch_size': 64} 0.9422\n"
          ],
          "name": "stdout"
        }
      ]
    },
    {
      "cell_type": "markdown",
      "metadata": {
        "id": "OVJl1NM54iNu"
      },
      "source": [
        "Testowanie modelu"
      ]
    },
    {
      "cell_type": "code",
      "metadata": {
        "colab": {
          "base_uri": "https://localhost:8080/"
        },
        "id": "kreuhGZU4kzE",
        "outputId": "7af426e7-9a3e-4223-b971-9d4c02fa561c"
      },
      "source": [
        "network = create_network()\n",
        "network.fit(train_deskewed, encoded_train_labels, epochs=5, batch_size=64)"
      ],
      "execution_count": null,
      "outputs": [
        {
          "output_type": "stream",
          "text": [
            "Epoch 1/5\n",
            "938/938 [==============================] - 7s 6ms/step - loss: 12.1090 - accuracy: 0.8779\n",
            "Epoch 2/5\n",
            "938/938 [==============================] - 6s 6ms/step - loss: 0.6866 - accuracy: 0.9599\n",
            "Epoch 3/5\n",
            "938/938 [==============================] - 6s 6ms/step - loss: 0.4746 - accuracy: 0.9696\n",
            "Epoch 4/5\n",
            "938/938 [==============================] - 6s 6ms/step - loss: 0.4352 - accuracy: 0.9748\n",
            "Epoch 5/5\n",
            "938/938 [==============================] - 6s 6ms/step - loss: 0.3664 - accuracy: 0.9778\n"
          ],
          "name": "stdout"
        },
        {
          "output_type": "execute_result",
          "data": {
            "text/plain": [
              "<tensorflow.python.keras.callbacks.History at 0x7fe0d31e2a50>"
            ]
          },
          "metadata": {
            "tags": []
          },
          "execution_count": 43
        }
      ]
    },
    {
      "cell_type": "code",
      "metadata": {
        "id": "w6VOxbOT4sbF",
        "colab": {
          "base_uri": "https://localhost:8080/"
        },
        "outputId": "62cae0e5-bbf4-4f0e-9c15-b1b1dcf46dc0"
      },
      "source": [
        "test_loss, test_acc = network.evaluate(test_deskewed, encoded_test_labels)\n",
        "print('test_acc:', test_acc)"
      ],
      "execution_count": null,
      "outputs": [
        {
          "output_type": "stream",
          "text": [
            "313/313 [==============================] - 1s 2ms/step - loss: 0.5491 - accuracy: 0.9731\n",
            "test_acc: 0.9731000065803528\n"
          ],
          "name": "stdout"
        }
      ]
    },
    {
      "cell_type": "code",
      "metadata": {
        "id": "BrZ4PiyN4yU1",
        "colab": {
          "base_uri": "https://localhost:8080/"
        },
        "outputId": "16e59c6a-0033-4b97-d32d-eff2350af4c6"
      },
      "source": [
        "pred_probabilities = network.predict(test_deskewed)\n",
        "pred_labels = np.argmax(pred_probabilities,-1)"
      ],
      "execution_count": null,
      "outputs": [
        {
          "output_type": "stream",
          "text": [
            "WARNING:tensorflow:6 out of the last 11 calls to <function Model.make_predict_function.<locals>.predict_function at 0x7fe0e1390560> triggered tf.function retracing. Tracing is expensive and the excessive number of tracings could be due to (1) creating @tf.function repeatedly in a loop, (2) passing tensors with different shapes, (3) passing Python objects instead of tensors. For (1), please define your @tf.function outside of the loop. For (2), @tf.function has experimental_relax_shapes=True option that relaxes argument shapes that can avoid unnecessary retracing. For (3), please refer to https://www.tensorflow.org/guide/function#controlling_retracing and https://www.tensorflow.org/api_docs/python/tf/function for  more details.\n"
          ],
          "name": "stdout"
        }
      ]
    },
    {
      "cell_type": "code",
      "metadata": {
        "id": "mZsXNcyc47Xx",
        "colab": {
          "base_uri": "https://localhost:8080/"
        },
        "outputId": "8be4ef2b-4f02-43af-f5ae-aee47bfdc845"
      },
      "source": [
        "cm = confusion_matrix(test_labels, pred_labels)\n",
        "print(cm)\n",
        "print(classification_report(test_labels, pred_labels))"
      ],
      "execution_count": null,
      "outputs": [
        {
          "output_type": "stream",
          "text": [
            "[[ 967    0    1    0    1    4    3    0    1    3]\n",
            " [   2 1119    1    1    0    3    3    0    6    0]\n",
            " [   4    2 1001    1    8    0    1    1   14    0]\n",
            " [   0    0    6  948    1   15    0    1   30    9]\n",
            " [   0    1    3    0  957    0    0    0    1   20]\n",
            " [   1    0    0    7    1  874    3    0    4    2]\n",
            " [   3    2    0    0    7    6  936    0    3    1]\n",
            " [   1    3   13    4    5    0    1  985    4   12]\n",
            " [   4    0    2    1    2    3    0    1  958    3]\n",
            " [   3    0    0    1    5    5    2    3    4  986]]\n",
            "              precision    recall  f1-score   support\n",
            "\n",
            "           0       0.98      0.99      0.98       980\n",
            "           1       0.99      0.99      0.99      1135\n",
            "           2       0.97      0.97      0.97      1032\n",
            "           3       0.98      0.94      0.96      1010\n",
            "           4       0.97      0.97      0.97       982\n",
            "           5       0.96      0.98      0.97       892\n",
            "           6       0.99      0.98      0.98       958\n",
            "           7       0.99      0.96      0.98      1028\n",
            "           8       0.93      0.98      0.96       974\n",
            "           9       0.95      0.98      0.96      1009\n",
            "\n",
            "    accuracy                           0.97     10000\n",
            "   macro avg       0.97      0.97      0.97     10000\n",
            "weighted avg       0.97      0.97      0.97     10000\n",
            "\n"
          ],
          "name": "stdout"
        }
      ]
    },
    {
      "cell_type": "markdown",
      "metadata": {
        "id": "vt-_Q9_mFQsj"
      },
      "source": [
        "**Wyniki dla wszystkich modeli bez stosowania OpenCVHOG:**\n",
        "\n",
        "\n",
        "*   SVC: 96.28%\n",
        "*   Las losowy: 97.28%\n",
        "*   Sieć neuronowa: 97.31%\n",
        "\n",
        "Wyniki podobne do wyników w przypadku bazowym."
      ]
    },
    {
      "cell_type": "markdown",
      "metadata": {
        "id": "TJ9yDOs7oi79"
      },
      "source": [
        "# Zadanie 4. Trening klasyfikatorów i sieci neuronowej obrazami oryginalnymi po 'zmieszaniu' zbioru danych"
      ]
    },
    {
      "cell_type": "markdown",
      "metadata": {
        "id": "qMZdPYd3Hjic"
      },
      "source": [
        "Mieszanie danych"
      ]
    },
    {
      "cell_type": "code",
      "metadata": {
        "id": "PMXnFye_Ci54"
      },
      "source": [
        "deskewed_train_data_and_labels = zip(train_deskewed, train_labels)\n",
        "deskewed_train_data_and_labels = list(deskewed_train_data_and_labels)"
      ],
      "execution_count": 31,
      "outputs": []
    },
    {
      "cell_type": "code",
      "metadata": {
        "id": "jVHa7K1B3MGb"
      },
      "source": [
        "np.random.shuffle(deskewed_train_data_and_labels)\n",
        "train_deskewed, train_labels = zip(*deskewed_train_data_and_labels)\n",
        "train_deskewed = np.asarray(train_deskewed).astype('float32')/255\n",
        "trin_labels = np.asarray(train_labels)"
      ],
      "execution_count": 32,
      "outputs": []
    },
    {
      "cell_type": "code",
      "metadata": {
        "colab": {
          "base_uri": "https://localhost:8080/",
          "height": 408
        },
        "id": "5KUzIPQpSwTu",
        "outputId": "772d0f31-cf26-4aff-c3e9-73f401d9b53d"
      },
      "source": [
        "print(train_deskewed.shape)\n",
        "\n",
        "n = 5\n",
        "showOpencvImage(train_deskewed[n].reshape(28, 28))\n",
        "print(train_labels[n])"
      ],
      "execution_count": 33,
      "outputs": [
        {
          "output_type": "stream",
          "text": [
            "(60000, 784)\n"
          ],
          "name": "stdout"
        },
        {
          "output_type": "display_data",
          "data": {
            "image/png": "[encoded data removed]",
            "text/plain": [
              "<Figure size 432x432 with 1 Axes>"
            ]
          },
          "metadata": {
            "tags": [],
            "needs_background": "light"
          }
        },
        {
          "output_type": "stream",
          "text": [
            "7\n"
          ],
          "name": "stdout"
        }
      ]
    },
    {
      "cell_type": "markdown",
      "metadata": {
        "id": "ahpplR1oHpps"
      },
      "source": [
        "### Support Vector Classifier"
      ]
    },
    {
      "cell_type": "code",
      "metadata": {
        "id": "e8zeXV-WADdj"
      },
      "source": [
        "from sklearn.svm import SVC"
      ],
      "execution_count": 34,
      "outputs": []
    },
    {
      "cell_type": "code",
      "metadata": {
        "id": "i8GPliQ3AQ6G"
      },
      "source": [
        "from sklearn.model_selection import GridSearchCV, StratifiedKFold"
      ],
      "execution_count": 35,
      "outputs": []
    },
    {
      "cell_type": "markdown",
      "metadata": {
        "id": "PKw7x00tHlrY"
      },
      "source": [
        "Wybór modelu"
      ]
    },
    {
      "cell_type": "code",
      "metadata": {
        "colab": {
          "base_uri": "https://localhost:8080/"
        },
        "id": "G4hBJhzBHoWc",
        "outputId": "17a78d5c-41b1-437c-d73a-7b3403ff0ea5"
      },
      "source": [
        "parameters = {\n",
        "    'C' : [5*n for n in range(1, 5)],\n",
        "    'gamma' : [10**(-2*n) for n in range(6)]\n",
        "}\n",
        "\n",
        "model = SVC()\n",
        "clf_svc = GridSearchCV(model, parameters, scoring='accuracy', cv=StratifiedKFold())\n",
        "clf_svc.fit(train_deskewed[:1000], train_labels[:1000])\n",
        "print(clf_svc.best_params_, clf_svc.best_score_)"
      ],
      "execution_count": 36,
      "outputs": [
        {
          "output_type": "stream",
          "text": [
            "{'C': 5, 'gamma': 0.01} 0.9279999999999999\n"
          ],
          "name": "stdout"
        }
      ]
    },
    {
      "cell_type": "markdown",
      "metadata": {
        "id": "el6oH-DXHvdh"
      },
      "source": [
        "Testowanie wybranego modelu"
      ]
    },
    {
      "cell_type": "code",
      "metadata": {
        "id": "hZ6t9w-GH_CD",
        "colab": {
          "base_uri": "https://localhost:8080/"
        },
        "outputId": "57cac96e-b1f2-4fa0-ffa5-55972a3027b8"
      },
      "source": [
        "model = clf_svc.best_estimator_\n",
        "model = model.fit(train_deskewed[:50000], train_labels[:50000])\n",
        "\n",
        "pred_labels = model.predict(train_deskewed[50000:])\n",
        "\n",
        "mask = pred_labels==train_labels[50000:]\n",
        "correct = np.count_nonzero(mask)\n",
        "print(correct*100.0/pred_labels.size)\n",
        "\n",
        "cm = confusion_matrix(train_labels[50000:], pred_labels)\n",
        "print(cm)\n",
        "print(classification_report(train_labels[50000:], pred_labels))"
      ],
      "execution_count": 37,
      "outputs": [
        {
          "output_type": "stream",
          "text": [
            "98.37\n",
            "[[ 977    0    0    0    1    0    2    1    1    1]\n",
            " [   0 1077    0    0    1    0    0    1    0    2]\n",
            " [   2    0  991    1    5    1    0    5    4    0]\n",
            " [   0    1    9  963    0    2    0    0    6    2]\n",
            " [   1    3    2    0  938    0    3    0    1    7]\n",
            " [   0    0    1    6    2  903    5    0    1    2]\n",
            " [   2    1    0    0    2    5 1028    0    2    0]\n",
            " [   2    3    5    2    4    1    0 1044    1    3]\n",
            " [   1    1    1    3    1    6    2    4  955    2]\n",
            " [   3    1    1    3    6    5    0    6    2  961]]\n",
            "              precision    recall  f1-score   support\n",
            "\n",
            "           0       0.99      0.99      0.99       983\n",
            "           1       0.99      1.00      0.99      1081\n",
            "           2       0.98      0.98      0.98      1009\n",
            "           3       0.98      0.98      0.98       983\n",
            "           4       0.98      0.98      0.98       955\n",
            "           5       0.98      0.98      0.98       920\n",
            "           6       0.99      0.99      0.99      1040\n",
            "           7       0.98      0.98      0.98      1065\n",
            "           8       0.98      0.98      0.98       976\n",
            "           9       0.98      0.97      0.98       988\n",
            "\n",
            "    accuracy                           0.98     10000\n",
            "   macro avg       0.98      0.98      0.98     10000\n",
            "weighted avg       0.98      0.98      0.98     10000\n",
            "\n"
          ],
          "name": "stdout"
        }
      ]
    },
    {
      "cell_type": "markdown",
      "metadata": {
        "id": "3_5ZDIVUIn61"
      },
      "source": [
        "### Random Forest Classifier"
      ]
    },
    {
      "cell_type": "markdown",
      "metadata": {
        "id": "vDmEFkChIyRv"
      },
      "source": [
        "Wybór modelu"
      ]
    },
    {
      "cell_type": "code",
      "metadata": {
        "id": "oBbo9Hs6Irz5",
        "colab": {
          "base_uri": "https://localhost:8080/"
        },
        "outputId": "ff738045-343c-4949-c0ca-e9dadfd96801"
      },
      "source": [
        "parameters = {\n",
        "    'max_depth' : [4**n for n in range(1, 5)],\n",
        "    'max_features' : [10*n for n in range(1, 5)]\n",
        "}\n",
        "model = RandomForestClassifier()\n",
        "clf_rfc = GridSearchCV(model, parameters, scoring='accuracy', cv=StratifiedKFold())\n",
        "clf_rfc.fit(train_deskewed[0:1000], train_labels[0:1000])\n",
        "print(clf_rfc.best_params_, clf_rfc.best_score_)"
      ],
      "execution_count": 38,
      "outputs": [
        {
          "output_type": "stream",
          "text": [
            "{'max_depth': 16, 'max_features': 40} 0.9400000000000001\n"
          ],
          "name": "stdout"
        }
      ]
    },
    {
      "cell_type": "markdown",
      "metadata": {
        "id": "TZdFPmvfI0mE"
      },
      "source": [
        "Testowanie modelu"
      ]
    },
    {
      "cell_type": "code",
      "metadata": {
        "id": "7adW4FuwI2f1",
        "colab": {
          "base_uri": "https://localhost:8080/"
        },
        "outputId": "15c7a484-8f34-49e5-e952-8dc2a8dc169b"
      },
      "source": [
        "model = clf_rfc.best_estimator_\n",
        "model = model.fit(train_deskewed, train_labels)\n",
        "\n",
        "pred_labels = model.predict(test_deskewed)\n",
        "\n",
        "mask = pred_labels==test_labels\n",
        "correct = np.count_nonzero(mask)\n",
        "print(correct*100.0/pred_labels.size)\n",
        "\n",
        "cm = confusion_matrix(test_labels, pred_labels)\n",
        "print(cm)\n",
        "print(classification_report(test_labels, pred_labels))"
      ],
      "execution_count": 39,
      "outputs": [
        {
          "output_type": "stream",
          "text": [
            "96.22\n",
            "[[ 974    0    0    0    0    0    2    1    3    0]\n",
            " [   0 1117    5    2    0    0    2    1    8    0]\n",
            " [   7    0 1002    8    1    0    0    5    9    0]\n",
            " [   1    2    8  972    0    8    0    4    9    6]\n",
            " [   4    1    3    0  893    0    6    2   10   63]\n",
            " [   5    0    0   20    1  851    3    2    7    3]\n",
            " [   8    4    0    1    2    1  935    0    6    1]\n",
            " [   3    5    7    3    0    0    0  991    4   15]\n",
            " [   5    4    6    6    2    1    5    1  941    3]\n",
            " [   5    7    1   16    7    2    1   10   14  946]]\n",
            "              precision    recall  f1-score   support\n",
            "\n",
            "           0       0.96      0.99      0.98       980\n",
            "           1       0.98      0.98      0.98      1135\n",
            "           2       0.97      0.97      0.97      1032\n",
            "           3       0.95      0.96      0.95      1010\n",
            "           4       0.99      0.91      0.95       982\n",
            "           5       0.99      0.95      0.97       892\n",
            "           6       0.98      0.98      0.98       958\n",
            "           7       0.97      0.96      0.97      1028\n",
            "           8       0.93      0.97      0.95       974\n",
            "           9       0.91      0.94      0.92      1009\n",
            "\n",
            "    accuracy                           0.96     10000\n",
            "   macro avg       0.96      0.96      0.96     10000\n",
            "weighted avg       0.96      0.96      0.96     10000\n",
            "\n"
          ],
          "name": "stdout"
        }
      ]
    },
    {
      "cell_type": "markdown",
      "metadata": {
        "id": "_RG49JkCJiAd"
      },
      "source": [
        "## Sieć neuronowa"
      ]
    },
    {
      "cell_type": "markdown",
      "metadata": {
        "id": "zBKkE_I0J1zZ"
      },
      "source": [
        "Wybór modelu"
      ]
    },
    {
      "cell_type": "code",
      "metadata": {
        "id": "crPrrmTcJ1zZ",
        "colab": {
          "base_uri": "https://localhost:8080/"
        },
        "outputId": "93605ab7-45cb-43d2-ee3a-55817b60cf55"
      },
      "source": [
        "def create_network():\n",
        "  network = Sequential()\n",
        "  network.add(Dense(512, activation='relu', input_shape=(28*28,)))\n",
        "  network.add(Dense(10, activation='softmax'))\n",
        "  network.compile(optimizer='rmsprop',\n",
        "                  loss='categorical_crossentropy',\n",
        "                  metrics=['accuracy'])\n",
        "  return network\n",
        "\n",
        "model = KerasClassifier(build_fn = create_network, epochs=5, verbose=0)\n",
        "\n",
        "parameters = {\n",
        "    'batch_size' : [4**n for n in range(1, 6)]\n",
        "}\n",
        "\n",
        "grid = GridSearchCV(model, parameters, scoring='accuracy', cv=StratifiedKFold())\n",
        "grid_result = grid.fit(train_deskewed[:10000], train_labels[:10000])\n",
        "print(grid_result.best_params_, grid_result.best_score_)"
      ],
      "execution_count": 44,
      "outputs": [
        {
          "output_type": "stream",
          "text": [
            "/usr/local/lib/python3.7/dist-packages/tensorflow/python/keras/engine/sequential.py:450: UserWarning: `model.predict_classes()` is deprecated and will be removed after 2021-01-01. Please use instead:* `np.argmax(model.predict(x), axis=-1)`,   if your model does multi-class classification   (e.g. if it uses a `softmax` last-layer activation).* `(model.predict(x) > 0.5).astype(\"int32\")`,   if your model does binary classification   (e.g. if it uses a `sigmoid` last-layer activation).\n",
            "  warnings.warn('`model.predict_classes()` is deprecated and '\n"
          ],
          "name": "stderr"
        },
        {
          "output_type": "stream",
          "text": [
            "WARNING:tensorflow:5 out of the last 15 calls to <function Model.make_predict_function.<locals>.predict_function at 0x7f90d3351d40> triggered tf.function retracing. Tracing is expensive and the excessive number of tracings could be due to (1) creating @tf.function repeatedly in a loop, (2) passing tensors with different shapes, (3) passing Python objects instead of tensors. For (1), please define your @tf.function outside of the loop. For (2), @tf.function has experimental_relax_shapes=True option that relaxes argument shapes that can avoid unnecessary retracing. For (3), please refer to https://www.tensorflow.org/guide/function#controlling_retracing and https://www.tensorflow.org/api_docs/python/tf/function for  more details.\n",
            "WARNING:tensorflow:6 out of the last 17 calls to <function Model.make_predict_function.<locals>.predict_function at 0x7f90c6ab77a0> triggered tf.function retracing. Tracing is expensive and the excessive number of tracings could be due to (1) creating @tf.function repeatedly in a loop, (2) passing tensors with different shapes, (3) passing Python objects instead of tensors. For (1), please define your @tf.function outside of the loop. For (2), @tf.function has experimental_relax_shapes=True option that relaxes argument shapes that can avoid unnecessary retracing. For (3), please refer to https://www.tensorflow.org/guide/function#controlling_retracing and https://www.tensorflow.org/api_docs/python/tf/function for  more details.\n",
            "{'batch_size': 16} 0.9605\n"
          ],
          "name": "stdout"
        }
      ]
    },
    {
      "cell_type": "markdown",
      "metadata": {
        "id": "zuL8bG3-J1za"
      },
      "source": [
        "Trening i testowanie modelu"
      ]
    },
    {
      "cell_type": "code",
      "metadata": {
        "id": "fki-yhbnJ1zb",
        "colab": {
          "base_uri": "https://localhost:8080/"
        },
        "outputId": "c673fdae-165b-4833-e3b2-f4ebda8917fd"
      },
      "source": [
        "network = create_network()\n",
        "network.fit(train_deskewed, encoded_train_labels, epochs=5, batch_size=16)"
      ],
      "execution_count": 50,
      "outputs": [
        {
          "output_type": "stream",
          "text": [
            "Epoch 1/5\n",
            "3750/3750 [==============================] - 18s 5ms/step - loss: 0.2503 - accuracy: 0.9264\n",
            "Epoch 2/5\n",
            "3750/3750 [==============================] - 18s 5ms/step - loss: 0.0914 - accuracy: 0.9756\n",
            "Epoch 3/5\n",
            "3750/3750 [==============================] - 18s 5ms/step - loss: 0.0702 - accuracy: 0.9831\n",
            "Epoch 4/5\n",
            "3750/3750 [==============================] - 17s 5ms/step - loss: 0.0606 - accuracy: 0.9857\n",
            "Epoch 5/5\n",
            "3750/3750 [==============================] - 17s 5ms/step - loss: 0.0543 - accuracy: 0.9883\n"
          ],
          "name": "stdout"
        },
        {
          "output_type": "execute_result",
          "data": {
            "text/plain": [
              "<tensorflow.python.keras.callbacks.History at 0x7f90caf08250>"
            ]
          },
          "metadata": {
            "tags": []
          },
          "execution_count": 50
        }
      ]
    },
    {
      "cell_type": "code",
      "metadata": {
        "id": "5nZFzfSqJ1zb",
        "colab": {
          "base_uri": "https://localhost:8080/"
        },
        "outputId": "71852e48-8a03-4d52-e31e-efbb10d639db"
      },
      "source": [
        "test_loss, test_acc = network.evaluate(test_deskewed, encoded_test_labels)\n",
        "print('test_acc:', test_acc)"
      ],
      "execution_count": 51,
      "outputs": [
        {
          "output_type": "stream",
          "text": [
            "313/313 [==============================] - 1s 2ms/step - loss: 27.3928 - accuracy: 0.9816\n",
            "test_acc: 0.9815999865531921\n"
          ],
          "name": "stdout"
        }
      ]
    },
    {
      "cell_type": "code",
      "metadata": {
        "id": "M3YQX3_oJ1zc",
        "colab": {
          "base_uri": "https://localhost:8080/"
        },
        "outputId": "e2e83db0-46fa-4074-c89c-9723c0ea8906"
      },
      "source": [
        "pred_probabilities = network.predict(test_deskewed)\n",
        "pred_labels = np.argmax(pred_probabilities,-1)"
      ],
      "execution_count": 52,
      "outputs": [
        {
          "output_type": "stream",
          "text": [
            "WARNING:tensorflow:6 out of the last 11 calls to <function Model.make_predict_function.<locals>.predict_function at 0x7f90c9e0c0e0> triggered tf.function retracing. Tracing is expensive and the excessive number of tracings could be due to (1) creating @tf.function repeatedly in a loop, (2) passing tensors with different shapes, (3) passing Python objects instead of tensors. For (1), please define your @tf.function outside of the loop. For (2), @tf.function has experimental_relax_shapes=True option that relaxes argument shapes that can avoid unnecessary retracing. For (3), please refer to https://www.tensorflow.org/guide/function#controlling_retracing and https://www.tensorflow.org/api_docs/python/tf/function for  more details.\n"
          ],
          "name": "stdout"
        }
      ]
    },
    {
      "cell_type": "code",
      "metadata": {
        "id": "vw-K3_cnJ1zc",
        "colab": {
          "base_uri": "https://localhost:8080/"
        },
        "outputId": "5455236b-3a48-4bdc-c366-ef828ca4ea17"
      },
      "source": [
        "cm = confusion_matrix(test_labels, pred_labels)\n",
        "print(cm)\n",
        "print(classification_report(test_labels, pred_labels))"
      ],
      "execution_count": 53,
      "outputs": [
        {
          "output_type": "stream",
          "text": [
            "[[ 974    0    1    0    0    0    4    1    0    0]\n",
            " [   0 1124    2    2    0    2    3    0    2    0]\n",
            " [   4    2 1012    0    1    0    1    1   11    0]\n",
            " [   1    0    7  985    0    6    0    2    8    1]\n",
            " [   0    0    4    0  963    0    5    0    0   10]\n",
            " [   3    0    0    3    0  872    9    0    3    2]\n",
            " [   2    2    0    0    1    0  950    0    2    1]\n",
            " [   2    4    9    3    5    0    1  989    4   11]\n",
            " [   3    0    3    0    2    1    0    1  962    2]\n",
            " [   1    5    1    4    7    2    1    2    1  985]]\n",
            "              precision    recall  f1-score   support\n",
            "\n",
            "           0       0.98      0.99      0.99       980\n",
            "           1       0.99      0.99      0.99      1135\n",
            "           2       0.97      0.98      0.98      1032\n",
            "           3       0.99      0.98      0.98      1010\n",
            "           4       0.98      0.98      0.98       982\n",
            "           5       0.99      0.98      0.98       892\n",
            "           6       0.98      0.99      0.98       958\n",
            "           7       0.99      0.96      0.98      1028\n",
            "           8       0.97      0.99      0.98       974\n",
            "           9       0.97      0.98      0.97      1009\n",
            "\n",
            "    accuracy                           0.98     10000\n",
            "   macro avg       0.98      0.98      0.98     10000\n",
            "weighted avg       0.98      0.98      0.98     10000\n",
            "\n"
          ],
          "name": "stdout"
        }
      ]
    },
    {
      "cell_type": "markdown",
      "metadata": {
        "id": "RYbmXY19QjFj"
      },
      "source": [
        "Wyniki eksperymentu:\n",
        "\n",
        "\n",
        "*   SVC: 98.37%\n",
        "*   Las losowy: 96.22%\n",
        "*   Sieć neuronowa: 98.16%\n",
        "\n",
        "Wyniki dla wszystkich modeli są podobne do wyników z poprzedniego zadania, kolejność danych nie wpływa na wyniki nauczania.\n"
      ]
    }
  ]
}
